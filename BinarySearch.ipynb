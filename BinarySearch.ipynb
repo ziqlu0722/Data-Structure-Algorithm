{
  "nbformat": 4,
  "nbformat_minor": 0,
  "metadata": {
    "colab": {
      "name": "BinarySearch.ipynb",
      "version": "0.3.2",
      "provenance": [],
      "collapsed_sections": [],
      "include_colab_link": true
    },
    "kernelspec": {
      "name": "python3",
      "display_name": "Python 3"
    }
  },
  "cells": [
    {
      "cell_type": "markdown",
      "metadata": {
        "id": "view-in-github",
        "colab_type": "text"
      },
      "source": [
        "<a href=\"https://colab.research.google.com/github/ziqlu0722/Data-Structure-Algorithm/blob/master/BinarySearch.ipynb\" target=\"_parent\"><img src=\"https://colab.research.google.com/assets/colab-badge.svg\" alt=\"Open In Colab\"/></a>"
      ]
    },
    {
      "cell_type": "markdown",
      "metadata": {
        "id": "7e0StXdg_bEj",
        "colab_type": "text"
      },
      "source": [
        "## Binary Search"
      ]
    },
    {
      "cell_type": "markdown",
      "metadata": {
        "id": "M814Sti3KynS",
        "colab_type": "text"
      },
      "source": [
        "### Iterative Binary Search"
      ]
    },
    {
      "cell_type": "code",
      "metadata": {
        "id": "19MYCnRy6rFy",
        "colab_type": "code",
        "colab": {}
      },
      "source": [
        "def binarySearch(arr, target):\n",
        "  l = 0\n",
        "  r = len(arr)\n",
        "  # search target in arr[l...r):\n",
        "  while l < r:\n",
        "    # mid = l+r//2\n",
        "    # avoid overflow in extreme case\n",
        "    mid = l + (r-l)//2\n",
        "    \n",
        "    if arr[mid] == target:\n",
        "      return mid\n",
        "    \n",
        "    # search target in arr[mid+1...r)\n",
        "    elif arr[mid] < target:\n",
        "      l = mid + 1\n",
        "      \n",
        "    # search target in arr[l...mid) \n",
        "    elif arr[mid] > target:\n",
        "      r = mid\n",
        "      \n",
        "  return -1      "
      ],
      "execution_count": 0,
      "outputs": []
    },
    {
      "cell_type": "code",
      "metadata": {
        "id": "v-gsxPR0EyJg",
        "colab_type": "code",
        "colab": {
          "base_uri": "https://localhost:8080/",
          "height": 34
        },
        "outputId": "2cd6e294-2db8-42c1-a57e-53236469de70"
      },
      "source": [
        "arr = [1,2,3,4]\n",
        "target = 4\n",
        "\n",
        "binarySearch(arr, target)"
      ],
      "execution_count": 34,
      "outputs": [
        {
          "output_type": "execute_result",
          "data": {
            "text/plain": [
              "3"
            ]
          },
          "metadata": {
            "tags": []
          },
          "execution_count": 34
        }
      ]
    },
    {
      "cell_type": "markdown",
      "metadata": {
        "id": "NdVZ9w_gK1ty",
        "colab_type": "text"
      },
      "source": [
        "### Recursive Binary Search"
      ]
    },
    {
      "cell_type": "code",
      "metadata": {
        "id": "DnpYdpFTE9kW",
        "colab_type": "code",
        "colab": {}
      },
      "source": [
        "def binarySearch_2(arr, target):\n",
        "  l = 0\n",
        "  r = len(arr)\n",
        "  return __find(arr, l, r, target)\n",
        "  \n",
        "  \n",
        "def __find(arr, l, r, target):\n",
        "  if l >= r: # illeagle range\n",
        "    return -1\n",
        "\n",
        "  mid = l + (r-l)//2    \n",
        "  if arr[mid] == target:\n",
        "    return mid\n",
        "  \n",
        "  elif arr[mid] < target:\n",
        "    return __find(arr, mid+1, r, target)\n",
        "  \n",
        "  elif arr[mid] > target:\n",
        "    return __find(arr, l, mid, target)\n",
        "  "
      ],
      "execution_count": 0,
      "outputs": []
    },
    {
      "cell_type": "code",
      "metadata": {
        "id": "4he4z0e1IR7o",
        "colab_type": "code",
        "colab": {
          "base_uri": "https://localhost:8080/",
          "height": 34
        },
        "outputId": "59a8f490-2872-40dd-9b06-fee9106e3dab"
      },
      "source": [
        "arr = [1,2,3,4]\n",
        "target = 9\n",
        "\n",
        "binarySearch_2(arr, target)"
      ],
      "execution_count": 40,
      "outputs": [
        {
          "output_type": "execute_result",
          "data": {
            "text/plain": [
              "-1"
            ]
          },
          "metadata": {
            "tags": []
          },
          "execution_count": 40
        }
      ]
    },
    {
      "cell_type": "markdown",
      "metadata": {
        "id": "Yu1flPYeKv_K",
        "colab_type": "text"
      },
      "source": [
        "### Floor"
      ]
    },
    {
      "cell_type": "code",
      "metadata": {
        "id": "_cv7Xr5WLm1z",
        "colab_type": "code",
        "colab": {}
      },
      "source": [
        "# return the position of x in [l, r) and x is the first value that doesn't larger than target (x <= target), i.e., target's lower_bound in arr\n",
        "# if doesn't exist, return r\n",
        "\n",
        "def bs_floor(arr, target): \n",
        "  l = 0\n",
        "  r = len(arr)\n",
        "  while l < r: # [l, r) is not empty\n",
        "    mid = l + (r-l)//2\n",
        "    if arr[mid] < target:\n",
        "      l = mid + 1\n",
        "    elif arr[mid] >= target:\n",
        "      r = mid\n",
        "  return l # l also does, becuz when [l, r) is empty, l and r overlap"
      ],
      "execution_count": 0,
      "outputs": []
    },
    {
      "cell_type": "code",
      "metadata": {
        "id": "wGjbDzjHjazH",
        "colab_type": "code",
        "colab": {
          "base_uri": "https://localhost:8080/",
          "height": 34
        },
        "outputId": "a862d450-092e-43d4-acd9-66d9fd0ac88a"
      },
      "source": [
        "arr = [1,1,2,2,3,6]\n",
        "target = 6\n",
        "\n",
        "bs_floor(arr, target)"
      ],
      "execution_count": 62,
      "outputs": [
        {
          "output_type": "execute_result",
          "data": {
            "text/plain": [
              "5"
            ]
          },
          "metadata": {
            "tags": []
          },
          "execution_count": 62
        }
      ]
    },
    {
      "cell_type": "markdown",
      "metadata": {
        "id": "2WWtu1imu9Nh",
        "colab_type": "text"
      },
      "source": [
        "### Ceil"
      ]
    },
    {
      "cell_type": "code",
      "metadata": {
        "id": "RU4BFRfJjh5Q",
        "colab_type": "code",
        "colab": {}
      },
      "source": [
        "# return the position of x in [l, r) and x the first value that doesn't smaller than target (x >= target), i.e., target's upper_bound in arr\n",
        "# if doesn't exist, return -1\n",
        "\n",
        "def bs_ceil(arr, target): \n",
        "  l = 0\n",
        "  r = len(arr)\n",
        "  while l < r: # [l, r) is not empty\n",
        "    mid = l + (r-l)//2\n",
        "    if arr[mid] <= target:\n",
        "      l = mid + 1\n",
        "    elif arr[mid] > target:\n",
        "      r = mid\n",
        "  return r-1"
      ],
      "execution_count": 0,
      "outputs": []
    },
    {
      "cell_type": "code",
      "metadata": {
        "id": "XvfX3K2IwRYx",
        "colab_type": "code",
        "colab": {
          "base_uri": "https://localhost:8080/",
          "height": 34
        },
        "outputId": "2a64c8b5-1ffe-4e95-ac93-be8969bc8546"
      },
      "source": [
        "arr = [1,1,2,2,3,6]\n",
        "target = 1\n",
        "\n",
        "bs_ceil(arr, target)"
      ],
      "execution_count": 83,
      "outputs": [
        {
          "output_type": "execute_result",
          "data": {
            "text/plain": [
              "1"
            ]
          },
          "metadata": {
            "tags": []
          },
          "execution_count": 83
        }
      ]
    },
    {
      "cell_type": "code",
      "metadata": {
        "id": "7DFTqsJBysQ7",
        "colab_type": "code",
        "colab": {}
      },
      "source": [
        ""
      ],
      "execution_count": 0,
      "outputs": []
    }
  ]
}