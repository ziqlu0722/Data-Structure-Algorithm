{
  "nbformat": 4,
  "nbformat_minor": 0,
  "metadata": {
    "colab": {
      "name": "BinaryHeap.ipynb",
      "version": "0.3.2",
      "provenance": [],
      "collapsed_sections": [],
      "include_colab_link": true
    },
    "kernelspec": {
      "name": "python3",
      "display_name": "Python 3"
    }
  },
  "cells": [
    {
      "cell_type": "markdown",
      "metadata": {
        "id": "view-in-github",
        "colab_type": "text"
      },
      "source": [
        "<a href=\"https://colab.research.google.com/github/ziqlu0722/Data-Structure-Algorithm/blob/master/BinaryHeap.ipynb\" target=\"_parent\"><img src=\"https://colab.research.google.com/assets/colab-badge.svg\" alt=\"Open In Colab\"/></a>"
      ]
    },
    {
      "cell_type": "markdown",
      "metadata": {
        "id": "D96trtW7GkwO",
        "colab_type": "text"
      },
      "source": [
        "##1. HEAP CONCEPT"
      ]
    },
    {
      "cell_type": "markdown",
      "metadata": {
        "id": "bd9oZP7L2hFM",
        "colab_type": "text"
      },
      "source": [
        "![alt text](https://algs4.cs.princeton.edu/24pq/images/heap-representations.png)\n",
        "\n",
        "**0-indexed heap**\n",
        "\n",
        "In a heap, the **parent of the node** in position **k** is in position **k//2**; \n",
        "\n",
        "and, conversely, the **two children** of the node in position k are in positions **2k** and **2k + 1**. \n",
        "\n",
        "**1-indexed heap**\n",
        "\n",
        "In a heap, the **parent of the node** in position **k** is in position **(k-1)//2**; \n",
        "\n",
        "and, conversely, the **two children** of the node in position k are in positions **2k+1** and **2k + 2**. \n",
        "\n",
        "\n",
        "\n",
        "![alt text](https://algs4.cs.princeton.edu/24pq/images/swim.png)\n",
        "\n",
        "**SWIM**\n",
        "\n",
        "![alt text](https://algs4.cs.princeton.edu/24pq/images/sink.png)\n",
        "\n",
        "\n",
        "**SINK**\n",
        "![alt text](https://algs4.cs.princeton.edu/24pq/images/sink.png)"
      ]
    },
    {
      "cell_type": "markdown",
      "metadata": {
        "id": "abamPGupKFYG",
        "colab_type": "text"
      },
      "source": [
        "![alt text](https://algs4.cs.princeton.edu/24pq/images/sink.png)\n",
        "\n",
        "\n",
        "**HEAP CONSTRUCTION & SORT**\n",
        "\n",
        "![alt text](https://algs4.cs.princeton.edu/24pq/images/heapsort-trace.png)"
      ]
    },
    {
      "cell_type": "markdown",
      "metadata": {
        "id": "sZMx_mCL5Vzv",
        "colab_type": "text"
      },
      "source": [
        "## 2. MAXHEAP STARTS AT INDEX 0"
      ]
    },
    {
      "cell_type": "code",
      "metadata": {
        "id": "vlShYUg1eLQz",
        "colab_type": "code",
        "colab": {}
      },
      "source": [
        "def parent(i):\n",
        "  return (i-1)//2\n",
        "\n",
        "def left(i):\n",
        "  return 2*i + 1\n",
        "\n",
        "def right(i):\n",
        "  return 2*i + 2\n",
        "\n",
        "def endIndex(arr):\n",
        "  return len(arr)-1\n",
        "      \n",
        "def swim(arr, i):\n",
        "  \"\"\"1. 找到i的父结点，如果父结点存在且小于i的值，则交换\n",
        "     2. 将i赋值为父结点的index, 直到循环终止，所有不合法的父结点已经转换完成\"\"\"\n",
        "  while arr[i] > arr[parent(i)] and parent(i) >= 0:\n",
        "    swap(arr, i, parent(i))\n",
        "    i = parent(i)    \n",
        "    \n",
        "def insert(arr, v):\n",
        "  \"\"\"1. 扩张原array\n",
        "     2. 以endIndex为初始，进行swim操作，保证所有的父结点都合法\"\"\"\n",
        "  arr.append(v)\n",
        "  swim(arr, endIndex(arr)) \n",
        "\n",
        "def sink(arr, i, n): \n",
        "  \"\"\"1. 以i为父结点，在左右子结点中找到大孩子 \n",
        "     2. 父结点和大孩子相比，如果父结点已经相等或更大则中断循环 \n",
        "     3. 父结点和大孩子相比，如果父结点更小，则交换\n",
        "     4. 更新的父结点是原来大孩子的Index，继续调整父结点的合法性\"\"\"\n",
        "  \n",
        "  # Iteration：\n",
        "  while (left(i) <= n):\n",
        "    l = left(i)\n",
        "    r = right(i)\n",
        "    tmp = l\n",
        "    if r <= n and arr[l] < arr[r]:\n",
        "      tmp = r\n",
        "    if arr[i] >= arr[tmp]:\n",
        "      break\n",
        "    swap(arr, i, tmp)\n",
        "    i = tmp\n",
        "      \n",
        "    # Recursion:\n",
        "\n",
        "#       l = left(i)\n",
        "#       r = right(i)\n",
        "#       temp = i\n",
        "#       if l <= endIndex(arr) and arr[l] > arr[temp]:\n",
        "#         temp = l\n",
        "#       if r <= endIndex(arr) and arr[r] > arr[temp]:\n",
        "#         temp = r\n",
        "#       if arr[i] != arr[temp]:\n",
        "#         swap(arr, temp, i)\n",
        "#         sink(arr, endIndex(arr), temp)\n",
        "\n",
        "\n",
        "def BuildMaxHeap(arr):\n",
        "  \"\"\"1. 找到最后一个父结点\n",
        "     2. 循环所有的父结点(父结点总是>=0)\n",
        "     3. 使每个父结点都符合MaxHeap\"\"\"\n",
        "  node = parent(endIndex(arr)) #last Node\n",
        "  while node >= 0:\n",
        "    sink(arr, node, endIndex(arr))\n",
        "    node -= 1\n",
        "\n",
        "def HeapSort(arr):\n",
        "  \"\"\"1. build a MaxHeap\n",
        "     2. 从endIndex开始循环直到倒数第二个元素（只剩一个时不用排序）\n",
        "     3. 交换Heap顶端元素与最后一个元素，获得最大值\n",
        "     4. Heap的长度修改短一个，并在新的Heap上进行sink操作使得所有父结点合法化\n",
        "     5. 此时新的Heap的顶端为次大值，如此循环\"\"\"\n",
        "  BuildMaxHeap(arr)\n",
        "  n = endIndex(arr)\n",
        "  while (n>=1):\n",
        "    swap(arr, 0, n)\n",
        "    n -= 1\n",
        "    sink(arr, 0, n)\n",
        "  \n",
        "def swap(arr, i, j):\n",
        "  arr[i], arr[j] = arr[j], arr[i]"
      ],
      "execution_count": 0,
      "outputs": []
    },
    {
      "cell_type": "code",
      "metadata": {
        "id": "sm0QjN-BZwBE",
        "colab_type": "code",
        "colab": {}
      },
      "source": [
        "a = [4,8,6,10,2]"
      ],
      "execution_count": 0,
      "outputs": []
    },
    {
      "cell_type": "code",
      "metadata": {
        "id": "YHJJCsBjgHAw",
        "colab_type": "code",
        "colab": {
          "base_uri": "https://localhost:8080/",
          "height": 34
        },
        "outputId": "3961f5e1-15ae-40fe-9736-3cb3e17feca4"
      },
      "source": [
        "BuildMaxHeap(a)\n",
        "a"
      ],
      "execution_count": 134,
      "outputs": [
        {
          "output_type": "execute_result",
          "data": {
            "text/plain": [
              "[10, 8, 6, 4, 2]"
            ]
          },
          "metadata": {
            "tags": []
          },
          "execution_count": 134
        }
      ]
    },
    {
      "cell_type": "code",
      "metadata": {
        "id": "QiMWwsnyOUUs",
        "colab_type": "code",
        "colab": {
          "base_uri": "https://localhost:8080/",
          "height": 34
        },
        "outputId": "4e6c363f-9364-486e-e0f2-aea727f16152"
      },
      "source": [
        "insert(a, 15)\n",
        "a"
      ],
      "execution_count": 135,
      "outputs": [
        {
          "output_type": "execute_result",
          "data": {
            "text/plain": [
              "[15, 8, 10, 4, 2, 6]"
            ]
          },
          "metadata": {
            "tags": []
          },
          "execution_count": 135
        }
      ]
    },
    {
      "cell_type": "code",
      "metadata": {
        "id": "cCDDfdtPEawr",
        "colab_type": "code",
        "colab": {
          "base_uri": "https://localhost:8080/",
          "height": 34
        },
        "outputId": "180f75bc-f12f-458d-e97d-14431a6d1241"
      },
      "source": [
        "HeapSort(a)\n",
        "a"
      ],
      "execution_count": 136,
      "outputs": [
        {
          "output_type": "execute_result",
          "data": {
            "text/plain": [
              "[2, 4, 6, 8, 10, 15]"
            ]
          },
          "metadata": {
            "tags": []
          },
          "execution_count": 136
        }
      ]
    },
    {
      "cell_type": "code",
      "metadata": {
        "id": "zfjpqc0yE5yY",
        "colab_type": "code",
        "colab": {}
      },
      "source": [
        ""
      ],
      "execution_count": 0,
      "outputs": []
    }
  ]
}