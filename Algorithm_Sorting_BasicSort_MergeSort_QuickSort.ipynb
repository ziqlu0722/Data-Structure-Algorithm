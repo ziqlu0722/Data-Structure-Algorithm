{
  "nbformat": 4,
  "nbformat_minor": 0,
  "metadata": {
    "colab": {
      "name": "Algorithm - Sorting - BasicSort-MergeSort-QuickSort.ipynb",
      "version": "0.3.2",
      "provenance": [],
      "collapsed_sections": [],
      "include_colab_link": true
    },
    "kernelspec": {
      "name": "python3",
      "display_name": "Python 3"
    }
  },
  "cells": [
    {
      "cell_type": "markdown",
      "metadata": {
        "id": "view-in-github",
        "colab_type": "text"
      },
      "source": [
        "<a href=\"https://colab.research.google.com/github/ziqlu0722/Data-Structure-Algorithm/blob/master/Algorithm_Sorting_BasicSort_MergeSort_QuickSort.ipynb\" target=\"_parent\"><img src=\"https://colab.research.google.com/assets/colab-badge.svg\" alt=\"Open In Colab\"/></a>"
      ]
    },
    {
      "cell_type": "markdown",
      "metadata": {
        "id": "XULExPMC-y78",
        "colab_type": "text"
      },
      "source": [
        "[Reference and Pictures](https://algs4.cs.princeton.edu)"
      ]
    },
    {
      "cell_type": "code",
      "metadata": {
        "id": "DHtXg3ALbiGe",
        "colab_type": "code",
        "colab": {}
      },
      "source": [
        "import numpy as np"
      ],
      "execution_count": 0,
      "outputs": []
    },
    {
      "cell_type": "markdown",
      "metadata": {
        "id": "ol5mPksX9zva",
        "colab_type": "text"
      },
      "source": [
        "# ALGORITHM"
      ]
    },
    {
      "cell_type": "markdown",
      "metadata": {
        "id": "2MT1SjjJbSDx",
        "colab_type": "text"
      },
      "source": [
        "##1. SELECTION SORT"
      ]
    },
    {
      "cell_type": "markdown",
      "metadata": {
        "id": "Ke9Q8bTQEqPP",
        "colab_type": "text"
      },
      "source": [
        "![alt text](https://algs4.cs.princeton.edu/21elementary/images/selection.png)"
      ]
    },
    {
      "cell_type": "code",
      "metadata": {
        "id": "tA27uBucWpTu",
        "colab_type": "code",
        "outputId": "530c471e-590b-4e9c-fe0d-4ad2e87a125e",
        "colab": {
          "base_uri": "https://localhost:8080/",
          "height": 34
        }
      },
      "source": [
        "def selection_sort(a, n):\n",
        "\n",
        "  # loop through all element to get the start of each sub-iteration\n",
        "  for i in range(n):\n",
        "\n",
        "    # initiate min_idx = i -> the start of each iteration\n",
        "    min_idx = i\n",
        "\n",
        "    # loop through the elements at the right side to find the minimal one\n",
        "    for j in range(i+1, n):\n",
        "      if a[j] < a[min_idx]: \n",
        "        min_idx = j\n",
        "\n",
        "    # swap to move the minimal to the begin of this iteration\n",
        "    a[i], a[min_idx] = a[min_idx], a[i]\n",
        "    \n",
        "  return a\n",
        "\n",
        "a = [1,9,3,4,8,2,1]\n",
        "n = len(a)\n",
        "selection_sort(a, n)"
      ],
      "execution_count": 0,
      "outputs": [
        {
          "output_type": "execute_result",
          "data": {
            "text/plain": [
              "[1, 1, 2, 3, 4, 8, 9]"
            ]
          },
          "metadata": {
            "tags": []
          },
          "execution_count": 5
        }
      ]
    },
    {
      "cell_type": "markdown",
      "metadata": {
        "id": "60XqnjDQbXoC",
        "colab_type": "text"
      },
      "source": [
        "## 2. BUBBLE SORT"
      ]
    },
    {
      "cell_type": "code",
      "metadata": {
        "id": "52EGnqdPbXO2",
        "colab_type": "code",
        "outputId": "a77b85fe-3362-4e7d-daad-c67ec731ef71",
        "colab": {
          "base_uri": "https://localhost:8080/",
          "height": 34
        }
      },
      "source": [
        "def bubble_sort(a, n):\n",
        "\n",
        "  # inversly loop through all element to get the end of each sub-iteration, as we fix the biggest at the very end\n",
        "  for i in range(n-1, -1, -1):\n",
        "\n",
        "    # record the # of swap\n",
        "    is_sort = True\n",
        "\n",
        "    # loop through sub-array, move the maximum to the very end through comparision and swap\n",
        "    for j in range(i):\n",
        "      if a[j+1] < a[j]:\n",
        "        a[j], a[j+1] = a[j+1], a[j]\n",
        "        is_sort = False\n",
        "\n",
        "    if is_sort:      \n",
        "      break\n",
        "  \n",
        "  return a\n",
        "\n",
        "a = [1,9,3,4,8,2,1]\n",
        "n = len(a)\n",
        "bubble_sort(a, n)"
      ],
      "execution_count": 0,
      "outputs": [
        {
          "output_type": "execute_result",
          "data": {
            "text/plain": [
              "[1, 1, 2, 3, 4, 8, 9]"
            ]
          },
          "metadata": {
            "tags": []
          },
          "execution_count": 6
        }
      ]
    },
    {
      "cell_type": "markdown",
      "metadata": {
        "id": "I-naoaa2obEW",
        "colab_type": "text"
      },
      "source": [
        "## 3. INSERTION SORT"
      ]
    },
    {
      "cell_type": "markdown",
      "metadata": {
        "id": "o7XaBbJa89Zc",
        "colab_type": "text"
      },
      "source": [
        "### 3.1 BASIC INSERTION SORT"
      ]
    },
    {
      "cell_type": "markdown",
      "metadata": {
        "id": "TA-W-PwiEySc",
        "colab_type": "text"
      },
      "source": [
        "![alt text](https://algs4.cs.princeton.edu/21elementary/images/insertion.png)"
      ]
    },
    {
      "cell_type": "code",
      "metadata": {
        "id": "TuzyuxJSoGPU",
        "colab_type": "code",
        "outputId": "700a5df8-f5a6-4d48-c252-dc162ecbaba9",
        "colab": {
          "base_uri": "https://localhost:8080/",
          "height": 34
        }
      },
      "source": [
        "def insertion_sort(a, n):\n",
        "\n",
        "  # loop through the second to last element, each is the element to be compared with all left elements\n",
        "  for i in range(1, n):\n",
        "    \n",
        "    # loop through all left elements to move the smaller one to the left\n",
        "    for j in range(i, 0, -1):\n",
        "      if a[j] < a[j-1]:\n",
        "        a[j], a[j-1] = a[j-1], a[j]\n",
        "   \n",
        "  return a\n",
        "\n",
        "a = [1,9,3,4,8,2,1]\n",
        "n = len(a)\n",
        "insertion_sort(a, n)"
      ],
      "execution_count": 0,
      "outputs": [
        {
          "output_type": "execute_result",
          "data": {
            "text/plain": [
              "[1, 1, 2, 3, 4, 8, 9]"
            ]
          },
          "metadata": {
            "tags": []
          },
          "execution_count": 7
        }
      ]
    },
    {
      "cell_type": "code",
      "metadata": {
        "id": "8O24Jj-WH0r_",
        "colab_type": "code",
        "outputId": "15b26c1a-3c62-4ef0-8907-35382f439afd",
        "colab": {
          "base_uri": "https://localhost:8080/",
          "height": 34
        }
      },
      "source": [
        "def insertion_sort(a, n):\n",
        "\n",
        "  # loop through the second to last element, each is the element to be compared with all left elements\n",
        "  for i in range(1, n):\n",
        "   \n",
        "    # loop through all left elements to move the smaller one to the left\n",
        "    j = i\n",
        "    while j and a[j] < a[j-1]:\n",
        "      a[j], a[j-1] = a[j-1], a[j]      \n",
        "      j -= 1\n",
        "   \n",
        "  return a\n",
        "\n",
        "a = [1,9,3,4,8,2,1]\n",
        "n = len(a)\n",
        "insertion_sort(a, n)"
      ],
      "execution_count": 0,
      "outputs": [
        {
          "output_type": "execute_result",
          "data": {
            "text/plain": [
              "[1, 1, 2, 3, 4, 8, 9]"
            ]
          },
          "metadata": {
            "tags": []
          },
          "execution_count": 8
        }
      ]
    },
    {
      "cell_type": "markdown",
      "metadata": {
        "id": "IMzVf6RH4zAE",
        "colab_type": "text"
      },
      "source": [
        "### 3.2. INSERTION SORT - NO SWAP"
      ]
    },
    {
      "cell_type": "code",
      "metadata": {
        "id": "c_aU2NgF4yuW",
        "colab_type": "code",
        "outputId": "9e3a52a2-06ee-4f88-810d-628aa8b10608",
        "colab": {
          "base_uri": "https://localhost:8080/",
          "height": 34
        }
      },
      "source": [
        "def insertion_sort_improved(a, n):\n",
        "\n",
        "  # loop through the second to last element, each is the element to be compared with all left elements\n",
        "  for i in range(1, n):\n",
        "\n",
        "    # copy a[i] for final value assignment\n",
        "    x = a[i]\n",
        "    \n",
        "    j = i\n",
        "    # find the right position for a[i]\n",
        "    while j and x < a[j-1]:\n",
        "      a[j] = a[j-1]\n",
        "      j -= 1\n",
        "    \n",
        "    a[j] = x\n",
        "      \n",
        "  return a\n",
        "\n",
        "a = [1,9,3,4,8,2,1]\n",
        "n = len(a)\n",
        "insertion_sort_improved(a, n)"
      ],
      "execution_count": 0,
      "outputs": [
        {
          "output_type": "execute_result",
          "data": {
            "text/plain": [
              "[1, 1, 2, 3, 4, 8, 9]"
            ]
          },
          "metadata": {
            "tags": []
          },
          "execution_count": 9
        }
      ]
    },
    {
      "cell_type": "markdown",
      "metadata": {
        "id": "70OCXWt8to_3",
        "colab_type": "text"
      },
      "source": [
        "## 4. SHELL SORT"
      ]
    },
    {
      "cell_type": "markdown",
      "metadata": {
        "id": "bvSabsDYFKcX",
        "colab_type": "text"
      },
      "source": [
        "![alt text](https://algs4.cs.princeton.edu/21elementary/images/h-sorted.png)\n",
        "\n",
        "![alt text](https://algs4.cs.princeton.edu/21elementary/images/shell.png)"
      ]
    },
    {
      "cell_type": "code",
      "metadata": {
        "id": "qyPeNLnHSeFx",
        "colab_type": "code",
        "outputId": "803be28e-73a1-4717-f430-e9762f85c2e3",
        "colab": {
          "base_uri": "https://localhost:8080/",
          "height": 34
        }
      },
      "source": [
        "def shell_sort(a, n):\n",
        "\n",
        "  gap = n // 2\n",
        "\n",
        "  while gap >= 1:\n",
        "    for i in range(gap, n):\n",
        "      j = i\n",
        "      while j-gap and a[j] < a[j-gap]:\n",
        "        a[j], a[j-1] = a[j-1], a[j]      \n",
        "        j -= gap\n",
        "\n",
        "    gap //= 2\n",
        "\n",
        "  return a\n",
        "\n",
        "a = [1,9,3,4,8,2,1]\n",
        "n = len(a)\n",
        "shell_sort(a, n)"
      ],
      "execution_count": 0,
      "outputs": [
        {
          "output_type": "execute_result",
          "data": {
            "text/plain": [
              "[1, 1, 2, 3, 4, 8, 9]"
            ]
          },
          "metadata": {
            "tags": []
          },
          "execution_count": 129
        }
      ]
    },
    {
      "cell_type": "markdown",
      "metadata": {
        "id": "bmMQU6zVgFoW",
        "colab_type": "text"
      },
      "source": [
        "## 5. MERGE SORT"
      ]
    },
    {
      "cell_type": "markdown",
      "metadata": {
        "id": "0wF1Ahn-D8qZ",
        "colab_type": "text"
      },
      "source": [
        "![alt text](https://algs4.cs.princeton.edu/22mergesort/images/mergesort-overview.png)"
      ]
    },
    {
      "cell_type": "markdown",
      "metadata": {
        "id": "YXmyWV5sDrJg",
        "colab_type": "text"
      },
      "source": [
        "### 5.1 TOP-DOWN MERGESORT\n",
        "\n",
        "![alt text](https://algs4.cs.princeton.edu/22mergesort/images/mergesortTD.png)"
      ]
    },
    {
      "cell_type": "code",
      "metadata": {
        "id": "RPvEq6tjhl2r",
        "colab_type": "code",
        "outputId": "3db61b5c-71f9-4b17-9d85-71a77ea8e440",
        "colab": {
          "base_uri": "https://localhost:8080/",
          "height": 204
        }
      },
      "source": [
        "def merge_sort(a, n):\n",
        "  # base condition:\n",
        "  if n <= 1:\n",
        "    print('- stop splitting at {}'.format(a))\n",
        "    return a\n",
        "  \n",
        "  print('- splitting {}'.format(a))\n",
        "  mid = len(a)//2\n",
        "  l = a[:mid]\n",
        "  r = a[mid:]\n",
        "  # recursion\n",
        "  return __merge(merge_sort(l, len(l)), merge_sort(r, len(r)))\n",
        "\n",
        "\n",
        "def __merge(l, r):\n",
        "  result = []\n",
        "  while l and r:\n",
        "    if l[0] <= r[0]:\n",
        "      result.append(l.pop(0))\n",
        "    else:\n",
        "      result.append(r.pop(0))\n",
        "  while l:\n",
        "    result.append(l.pop(0))\n",
        "  while r:\n",
        "    result.append(r.pop(0))\n",
        "    \n",
        "  print('- merging to {}'.format(result))\n",
        "  return result\n",
        "\n",
        "\n",
        "a = [54,26,93,17]\n",
        "n = len(a)\n",
        "merge_sort(a, n)"
      ],
      "execution_count": 0,
      "outputs": [
        {
          "output_type": "stream",
          "text": [
            "- splitting [54, 26, 93, 17]\n",
            "- splitting [54, 26]\n",
            "- stop splitting at [54]\n",
            "- stop splitting at [26]\n",
            "- merging to [26, 54]\n",
            "- splitting [93, 17]\n",
            "- stop splitting at [93]\n",
            "- stop splitting at [17]\n",
            "- merging to [17, 93]\n",
            "- merging to [17, 26, 54, 93]\n"
          ],
          "name": "stdout"
        },
        {
          "output_type": "execute_result",
          "data": {
            "text/plain": [
              "[17, 26, 54, 93]"
            ]
          },
          "metadata": {
            "tags": []
          },
          "execution_count": 42
        }
      ]
    },
    {
      "cell_type": "markdown",
      "metadata": {
        "id": "D6U0Lxvcf40B",
        "colab_type": "text"
      },
      "source": [
        "### 5.2. MERGE SORT - BOTTOM-UP"
      ]
    },
    {
      "cell_type": "markdown",
      "metadata": {
        "id": "s9fRNJoV2Nia",
        "colab_type": "text"
      },
      "source": [
        "![img](https://algs4.cs.princeton.edu/22mergesort/images/mergesortBU.png)"
      ]
    },
    {
      "cell_type": "code",
      "metadata": {
        "id": "hAQGIKgCzz8M",
        "colab_type": "code",
        "outputId": "4c6557fc-a7c9-4661-94ba-ebfc0691fcc3",
        "colab": {
          "base_uri": "https://localhost:8080/",
          "height": 136
        }
      },
      "source": [
        "def merge_sort_bottomup(a, n):\n",
        "  \n",
        "  size = 1\n",
        "  while size < n:\n",
        "    \n",
        "    for i in range(0, n, size):\n",
        "      sublist_start = i\n",
        "      sublist_mid = i+size//2+1\n",
        "      sublist_end = i+size+1\n",
        "      \n",
        "      l = a[sublist_start : sublist_mid]\n",
        "      r = a[sublist_mid : sublist_end]\n",
        "      \n",
        "      a[sublist_start : sublist_end] = __merge(l, r)\n",
        "      \n",
        "    size *= 2\n",
        "      \n",
        "  return a\n",
        "\n",
        "a = [54,26,93,17]\n",
        "n = len(a)\n",
        "merge_sort_bottomup(a, n)"
      ],
      "execution_count": 0,
      "outputs": [
        {
          "output_type": "stream",
          "text": [
            "- merging to [26, 54]\n",
            "- merging to [54, 93]\n",
            "- merging to [17, 93]\n",
            "- merging to [93]\n",
            "- merging to [17, 26, 54]\n",
            "- merging to [54, 93]\n"
          ],
          "name": "stdout"
        },
        {
          "output_type": "execute_result",
          "data": {
            "text/plain": [
              "[17, 26, 54, 93]"
            ]
          },
          "metadata": {
            "tags": []
          },
          "execution_count": 39
        }
      ]
    },
    {
      "cell_type": "markdown",
      "metadata": {
        "id": "wgMKpW9yDQDn",
        "colab_type": "text"
      },
      "source": [
        "## 6.QUICK SORT"
      ]
    },
    {
      "cell_type": "markdown",
      "metadata": {
        "id": "MGZ3WYcc4a4l",
        "colab_type": "text"
      },
      "source": [
        "### 6.1 BASIC QUICK SORT\n",
        "\n",
        "![BASIC QUICK SORT](https://algs4.cs.princeton.edu/23quicksort/images/quicksort-overview.png)"
      ]
    },
    {
      "cell_type": "code",
      "metadata": {
        "id": "EiCZ0ZF06JQV",
        "colab_type": "code",
        "outputId": "cce253eb-1b45-41b3-9b16-aec55bd6c382",
        "colab": {
          "base_uri": "https://localhost:8080/",
          "height": 442
        }
      },
      "source": [
        "def quick_sort(a, mode):\n",
        "  \n",
        "  __quick_sort(a, 0, len(a), mode = mode)\n",
        "  \n",
        "  return a\n",
        "  \n",
        "def __quick_sort(a, l, r, mode):\n",
        "  \n",
        "  # base condition:\n",
        "  if l >= r:\n",
        "    return a\n",
        "  \n",
        "  if mode == 'normal':\n",
        "    pIdx = __partition(a, l, r)\n",
        "    \n",
        "  elif mode == 'random':\n",
        "    pIdx = __partition_randomPivot(a, l, r)\n",
        "\n",
        "\n",
        "  __quick_sort(a, l, pIdx-1, mode)\n",
        "  __quick_sort(a, pIdx+1, r, mode)\n",
        "\n",
        "  return a\n",
        "\n",
        "def __partition(a, l, r):\n",
        "  # let l be the pivot\n",
        "  # let i track the iteration status\n",
        "  # let j track the position of the first element of \"bigger than pivot\" sublist  \n",
        "  # a[l+1...j] < pivot\n",
        "  # a[j...i] > pivot\n",
        "\n",
        "  print('- partitioning {}'.format(a[l:r]))\n",
        "  print('- pivot is {}'.format(a[l]))\n",
        "\n",
        "  pivot = a[l]\n",
        "  i = j = l+1\n",
        "  \n",
        "  while i < r:\n",
        "    if a[i] < pivot:\n",
        "      a[i], a[j] = a[j], a[i]\n",
        "      j += 1\n",
        "    i += 1\n",
        "  \n",
        "  # swap pivot and the last element of the \"smaller than pivot\" sublist\n",
        "  # a[l, j-1] < pivot\n",
        "  # a[j-1] = pivot\n",
        "  # a[j, r] > pivot\n",
        "  a[l], a[j-1] = a[j-1], a[l]\n",
        "  print('- left part is {}'.format(a[l : j-1]))\n",
        "  print('- right part is {}'.format(a[j : r]))\n",
        "\n",
        "  return j-1\n",
        "      \n",
        "def __partition_randomPivot(a, l, r):\n",
        "  # let l be the pivot\n",
        "  # let i track the iteration status\n",
        "  # let j track the position of the first element of \"bigger than pivot\" sublist  \n",
        "  # a[l+1...j] < pivot\n",
        "  # a[j...i] > pivot\n",
        "\n",
        "  print('- random partitioning {}'.format(a[l:r]))\n",
        "  print('- random pivot is {}'.format(a[l]))\n",
        "\n",
        "  p = random.randint(l, r-1)\n",
        "  a[l], a[p] = a[p], a[l]\n",
        "  pivot = a[l]\n",
        "  i = j = l+1\n",
        "  \n",
        "  while i < r:\n",
        "    if a[i] < pivot:\n",
        "      a[i], a[j] = a[j], a[i]\n",
        "      j += 1\n",
        "    i += 1\n",
        "  \n",
        "  # swap pivot and the last element of the \"smaller than pivot\" sublist\n",
        "  # a[l, j-1] < pivot\n",
        "  # a[j-1] = pivot\n",
        "  # a[j, r] > pivot\n",
        "  a[l], a[j-1] = a[j-1], a[l]\n",
        "  print('- left part is {}'.format(a[l : j-1]))\n",
        "  print('- right part is {}'.format(a[j : r]))\n",
        "\n",
        "  return j-1\n",
        "\n",
        "\n",
        "a = [54,26,93,17,102,4,34,25,87]\n",
        "l = 0\n",
        "r = len(a)\n",
        "\n",
        "quick_sort(a, mode = 'normal')"
      ],
      "execution_count": 0,
      "outputs": [
        {
          "output_type": "stream",
          "text": [
            "- partitioning [54, 26, 93, 17, 102, 4, 34, 25, 87]\n",
            "- pivot is 54\n",
            "- left part is [25, 26, 17, 4, 34]\n",
            "- right part is [102, 93, 87]\n",
            "- partitioning [25, 26, 17, 4]\n",
            "- pivot is 25\n",
            "- left part is [4, 17]\n",
            "- right part is [26]\n",
            "- partitioning [4]\n",
            "- pivot is 4\n",
            "- left part is []\n",
            "- right part is []\n",
            "- partitioning [26]\n",
            "- pivot is 26\n",
            "- left part is []\n",
            "- right part is []\n",
            "- partitioning [102, 93, 87]\n",
            "- pivot is 102\n",
            "- left part is [87, 93]\n",
            "- right part is []\n",
            "- partitioning [87]\n",
            "- pivot is 87\n",
            "- left part is []\n",
            "- right part is []\n"
          ],
          "name": "stdout"
        },
        {
          "output_type": "execute_result",
          "data": {
            "text/plain": [
              "[4, 17, 25, 26, 34, 54, 87, 93, 102]"
            ]
          },
          "metadata": {
            "tags": []
          },
          "execution_count": 105
        }
      ]
    },
    {
      "cell_type": "code",
      "metadata": {
        "id": "pDpo4cX86S7q",
        "colab_type": "code",
        "outputId": "eb98fc58-a204-48d1-fed4-3045423dd39e",
        "colab": {
          "base_uri": "https://localhost:8080/",
          "height": 442
        }
      },
      "source": [
        "a = [54,26,93,17,102,4,34,25,87]\n",
        "l = 0\n",
        "r = len(a)\n",
        "\n",
        "quick_sort(a, mode = 'random')"
      ],
      "execution_count": 0,
      "outputs": [
        {
          "output_type": "stream",
          "text": [
            "- random partitioning [54, 26, 93, 17, 102, 4, 34, 25, 87]\n",
            "- random pivot is 54\n",
            "- left part is [25, 26, 17, 4, 34]\n",
            "- right part is [102, 93, 87]\n",
            "- random partitioning [25, 26, 17, 4]\n",
            "- random pivot is 25\n",
            "- left part is [4]\n",
            "- right part is [25, 26]\n",
            "- random partitioning [25, 26]\n",
            "- random pivot is 25\n",
            "- left part is []\n",
            "- right part is [26]\n",
            "- random partitioning [26]\n",
            "- random pivot is 26\n",
            "- left part is []\n",
            "- right part is []\n",
            "- random partitioning [102, 93, 87]\n",
            "- random pivot is 102\n",
            "- left part is [87, 93]\n",
            "- right part is []\n",
            "- random partitioning [87]\n",
            "- random pivot is 87\n",
            "- left part is []\n",
            "- right part is []\n"
          ],
          "name": "stdout"
        },
        {
          "output_type": "execute_result",
          "data": {
            "text/plain": [
              "[4, 17, 25, 26, 34, 54, 87, 93, 102]"
            ]
          },
          "metadata": {
            "tags": []
          },
          "execution_count": 106
        }
      ]
    },
    {
      "cell_type": "markdown",
      "metadata": {
        "id": "Val681D75HOI",
        "colab_type": "text"
      },
      "source": [
        "### 6.2 DUAL PIVOT QUICK SORT"
      ]
    },
    {
      "cell_type": "markdown",
      "metadata": {
        "id": "1pmFSXy_3RNS",
        "colab_type": "text"
      },
      "source": [
        "![alt text](https://algs4.cs.princeton.edu/23quicksort/images/partitioning-overview.png)\n",
        "\n",
        "![alt text](https://algs4.cs.princeton.edu/23quicksort/images/partitioning.png)"
      ]
    },
    {
      "cell_type": "code",
      "metadata": {
        "id": "vU4kOdeaBZik",
        "colab_type": "code",
        "outputId": "7c0e4631-72ec-4a7e-f7a6-e7f26c0a7ae2",
        "colab": {
          "base_uri": "https://localhost:8080/",
          "height": 442
        }
      },
      "source": [
        "def quick_sort_dualPivot(a):\n",
        "  \n",
        "  __quick_sort_dualPivot(a, 0, len(a)-1)\n",
        "  \n",
        "  return a\n",
        "  \n",
        "def __quick_sort_dualPivot(a, lo, hi):\n",
        "  \n",
        "  # base condition:\n",
        "  if lo >= hi:\n",
        "    return a\n",
        "\n",
        "  pIdx = __partition_dualPivot(a, lo, hi)\n",
        "\n",
        "  __quick_sort_dualPivot(a, lo, pIdx-1)\n",
        "  __quick_sort_dualPivot(a, pIdx+1, hi)\n",
        "\n",
        "  return a\n",
        "\n",
        "def __partition_dualPivot(a, lo, hi):\n",
        "  print('- two pointer partitioning {}'.format(a[lo:hi]))\n",
        "  print('- two pointer pivot is {}'.format(a[lo]))\n",
        "    \n",
        "  # a[l+1....low) <= a[pivot]\n",
        "  # a[high....r-1] >= v\n",
        "  pivot = a[lo]\n",
        "  i = lo + 1\n",
        "  j = hi\n",
        "  \n",
        "  while True:\n",
        "  \n",
        "    while i <= hi and a[i] < pivot:\n",
        "      i += 1\n",
        "    while j >= lo + 1 and a[j] > pivot:\n",
        "      j -= 1\n",
        "\n",
        "    if i > j:\n",
        "      break\n",
        "  \n",
        "    a[i], a[j] = a[j], a[i]\n",
        "    i += 1\n",
        "    j -= 1\n",
        "\n",
        "  a[lo], a[j] = a[j], a[lo]\n",
        "  print('- left part is {}'.format(a[lo:j]))\n",
        "  print('- right part is {}'.format(a[j:hi+1]))\n",
        "  \n",
        "  return j\n",
        "\n",
        "\n",
        "a = [54,26,93,17,102,4,34,25,87]\n",
        "l = 0\n",
        "r = len(a)\n",
        "\n",
        "quick_sort_dualPivot(a)"
      ],
      "execution_count": 10,
      "outputs": [
        {
          "output_type": "stream",
          "text": [
            "- two pointer partitioning [54, 26, 93, 17, 102, 4, 34, 25]\n",
            "- two pointer pivot is 54\n",
            "- left part is [4, 26, 25, 17, 34]\n",
            "- right part is [54, 102, 93, 87]\n",
            "- two pointer partitioning [4, 26, 25, 17]\n",
            "- two pointer pivot is 4\n",
            "- left part is []\n",
            "- right part is [4, 26, 25, 17, 34]\n",
            "- two pointer partitioning [26, 25, 17]\n",
            "- two pointer pivot is 26\n",
            "- left part is [17, 25]\n",
            "- right part is [26, 34]\n",
            "- two pointer partitioning [17]\n",
            "- two pointer pivot is 17\n",
            "- left part is []\n",
            "- right part is [17, 25]\n",
            "- two pointer partitioning [102, 93]\n",
            "- two pointer pivot is 102\n",
            "- left part is [87, 93]\n",
            "- right part is [102]\n",
            "- two pointer partitioning [87]\n",
            "- two pointer pivot is 87\n",
            "- left part is []\n",
            "- right part is [87, 93]\n"
          ],
          "name": "stdout"
        },
        {
          "output_type": "execute_result",
          "data": {
            "text/plain": [
              "[4, 17, 25, 26, 34, 54, 87, 93, 102]"
            ]
          },
          "metadata": {
            "tags": []
          },
          "execution_count": 10
        }
      ]
    },
    {
      "cell_type": "markdown",
      "metadata": {
        "id": "-0EpaNSpgjZt",
        "colab_type": "text"
      },
      "source": [
        "### 6.3. QUICK SORT - 3-WAYS\n",
        "\n",
        "![alt text](https://algs4.cs.princeton.edu/23quicksort/images/partitioning3-overview.png)"
      ]
    },
    {
      "cell_type": "code",
      "metadata": {
        "id": "tQB63k-h6eAx",
        "colab_type": "code",
        "colab": {}
      },
      "source": [
        "def quick_sort_3way(a):\n",
        "  \n",
        "  __quick_sort_dualPivot(a, 0, len(a)-1)\n",
        "  \n",
        "  return a\n",
        "  \n",
        "def __quick_sort_3way(a, lo, hi):\n",
        "  \n",
        "  # base condition:\n",
        "  if lo >= hi:\n",
        "    return a\n",
        "\n",
        "  lt, gt = __partition_dualPivot(a, lo, hi)\n",
        "\n",
        "  __quick_sort_dualPivot(a, lo, lt)\n",
        "  __quick_sort_dualPivot(a, gt+1, hi)\n",
        "\n",
        "  return a\n",
        "\n",
        "def __partition_3way(a, lo, hi):\n",
        "  print('- 3 way partitioning {}'.format(a[lo:hi]))\n",
        "  print('- 3 way pivot is {}'.format(a[lo]))\n",
        "    \n",
        "  lt = lo + 1\n",
        "  i = lo + 1\n",
        "  gt = hi\n",
        "  pivot = a[lo]\n",
        "  \n",
        "  while i <= gt:\n",
        "    if a[i] < pivot:\n",
        "      a[i], a[lt] = a[lt], a[i]\n",
        "      lt += 1\n",
        "      i += 1\n",
        "    elif a[i] > pivot:\n",
        "      a[i], a[gt] = a[gt], a[i]\n",
        "      gt -= 1\n",
        "\n",
        "    else:\n",
        "      i += 1\n",
        "      break\n",
        "\n",
        "  a[lo], a[gt] = a[gt], a[lo]\n",
        "  print('- left part is {}'.format(a[lo:j]))\n",
        "  print('- right part is {}'.format(a[j:hi+1]))\n",
        "  \n",
        "  return lt, gt"
      ],
      "execution_count": 0,
      "outputs": []
    },
    {
      "cell_type": "code",
      "metadata": {
        "id": "ADaO1xpHPtJF",
        "colab_type": "code",
        "outputId": "a1b2ec87-88d9-42b8-bbc8-e5c1d7923bb9",
        "colab": {
          "base_uri": "https://localhost:8080/",
          "height": 442
        }
      },
      "source": [
        "a = [54,26,54,54,102,4,54,25,87]\n",
        "l = 0\n",
        "r = len(a)\n",
        "\n",
        "quick_sort_3way(a)"
      ],
      "execution_count": 13,
      "outputs": [
        {
          "output_type": "stream",
          "text": [
            "- two pointer partitioning [54, 26, 54, 54, 102, 4, 54, 25]\n",
            "- two pointer pivot is 54\n",
            "- left part is [4, 26, 25, 54]\n",
            "- right part is [54, 102, 54, 54, 87]\n",
            "- two pointer partitioning [4, 26, 25]\n",
            "- two pointer pivot is 4\n",
            "- left part is []\n",
            "- right part is [4, 26, 25, 54]\n",
            "- two pointer partitioning [26, 25]\n",
            "- two pointer pivot is 26\n",
            "- left part is [25]\n",
            "- right part is [26, 54]\n",
            "- two pointer partitioning [102, 54, 54]\n",
            "- two pointer pivot is 102\n",
            "- left part is [87, 54, 54]\n",
            "- right part is [102]\n",
            "- two pointer partitioning [87, 54]\n",
            "- two pointer pivot is 87\n",
            "- left part is [54, 54]\n",
            "- right part is [87]\n",
            "- two pointer partitioning [54]\n",
            "- two pointer pivot is 54\n",
            "- left part is []\n",
            "- right part is [54, 54]\n"
          ],
          "name": "stdout"
        },
        {
          "output_type": "execute_result",
          "data": {
            "text/plain": [
              "[4, 25, 26, 54, 54, 54, 54, 87, 102]"
            ]
          },
          "metadata": {
            "tags": []
          },
          "execution_count": 13
        }
      ]
    },
    {
      "cell_type": "markdown",
      "metadata": {
        "id": "zhkbYfX29tWo",
        "colab_type": "text"
      },
      "source": [
        "# APPLICATION"
      ]
    },
    {
      "cell_type": "markdown",
      "metadata": {
        "id": "vslfX25k97Ri",
        "colab_type": "text"
      },
      "source": [
        "## 1. # of Inverse Pairs"
      ]
    },
    {
      "cell_type": "markdown",
      "metadata": {
        "id": "qzN5oDJR-BMU",
        "colab_type": "text"
      },
      "source": [
        "## 2. Nth Largest Number"
      ]
    }
  ]
}