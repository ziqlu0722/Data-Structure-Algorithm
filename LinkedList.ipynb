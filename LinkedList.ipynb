{
  "nbformat": 4,
  "nbformat_minor": 0,
  "metadata": {
    "colab": {
      "name": "LinkedList.ipynb",
      "version": "0.3.2",
      "provenance": [],
      "collapsed_sections": [],
      "include_colab_link": true
    },
    "kernelspec": {
      "name": "python3",
      "display_name": "Python 3"
    }
  },
  "cells": [
    {
      "cell_type": "markdown",
      "metadata": {
        "id": "view-in-github",
        "colab_type": "text"
      },
      "source": [
        "<a href=\"https://colab.research.google.com/github/ziqlu0722/Data-Structure-Algorithm/blob/master/LinkedList.ipynb\" target=\"_parent\"><img src=\"https://colab.research.google.com/assets/colab-badge.svg\" alt=\"Open In Colab\"/></a>"
      ]
    },
    {
      "cell_type": "code",
      "metadata": {
        "id": "HoZFfQIVbVnv",
        "colab_type": "code",
        "colab": {}
      },
      "source": [
        "class Node:\n",
        "    \n",
        "    def __init__(self, e, next):\n",
        "      self.e = e\n",
        "      self.next = next\n",
        "      \n",
        "class LinkedList:\n",
        "   \n",
        "  def __init__(self):\n",
        "    self.size = 0\n",
        "    self.dummyHead = Node(None, None)\n",
        "    \n",
        "  def __getSize(self):\n",
        "    return self.size\n",
        "  \n",
        "  def __isEmpty(self):\n",
        "    return self.size == 0\n",
        "    \n",
        "  # find Node pre the index\n",
        "  def add(self, e, index):\n",
        "    \n",
        "    if index < 0 or index > self.size:\n",
        "      print('Add failed')\n",
        "    \n",
        "    pre = self.dummyHead\n",
        "    \n",
        "    for i in range(index):\n",
        "      pre = pre.next\n",
        "\n",
        "    pre.next = Node(e, pre.next)    \n",
        "    self.size += 1\n",
        "    \n",
        "  # find Node at index\n",
        "  def get(self, index):\n",
        "    \n",
        "    if index < 0 or index > self.size:\n",
        "      print('Get failed')\n",
        "      \n",
        "    cur = self.dummyHead.next\n",
        "    for i in range(index):\n",
        "      cur = cur.next\n",
        "      \n",
        "    return cur.e\n",
        "  \n",
        "  def contains(self, e):\n",
        "    \n",
        "    cur = self.dummyHead.next\n",
        "    \n",
        "    while cur:\n",
        "      if cur.e == e:\n",
        "        return True\n",
        "      cur = cur.next\n",
        "      \n",
        "    return False\n",
        "  \n",
        "  def toString(self):\n",
        "    cur = self.dummyHead.next\n",
        "    \n",
        "    res = []\n",
        "    while cur:\n",
        "      res.append(str(cur.e))\n",
        "      cur = cur.next\n",
        "    \n",
        "    print('->'.join(res))\n",
        "    \n",
        "    \n",
        "  def delete(self, index):\n",
        "    \n",
        "    if index < 0 or index > self.size:\n",
        "      print('Get failed')\n",
        "    \n",
        "    pre = self.dummyHead\n",
        "    \n",
        "    for i in range(index):\n",
        "      pre = pre.next\n",
        "      \n",
        "    delNode = pre.next\n",
        "    pre.next = pre.next.next\n",
        "    delNode.next = None\n",
        "    \n",
        "    self.size -= 1\n",
        "    \n",
        "    return delNode.e"
      ],
      "execution_count": 0,
      "outputs": []
    },
    {
      "cell_type": "code",
      "metadata": {
        "id": "F9KjwOObh8yB",
        "colab_type": "code",
        "outputId": "68180373-5aa5-4431-b588-4a3db2d6d409",
        "colab": {
          "base_uri": "https://localhost:8080/",
          "height": 34
        }
      },
      "source": [
        "ll = LinkedList()\n",
        "for i in range(10):\n",
        "  ll.add(i, i)\n",
        "ll.toString()"
      ],
      "execution_count": 0,
      "outputs": [
        {
          "output_type": "stream",
          "text": [
            "0->1->2->3->4->5->6->7->8->9\n"
          ],
          "name": "stdout"
        }
      ]
    },
    {
      "cell_type": "code",
      "metadata": {
        "id": "5Ty9nK6wHWSx",
        "colab_type": "code",
        "outputId": "e15b5063-01eb-4111-feb0-d7b2899bd129",
        "colab": {
          "base_uri": "https://localhost:8080/",
          "height": 34
        }
      },
      "source": [
        "ll.delete(0)\n",
        "ll.toString()"
      ],
      "execution_count": 0,
      "outputs": [
        {
          "output_type": "stream",
          "text": [
            "1->2->3->4->5->6->7->8->9\n"
          ],
          "name": "stdout"
        }
      ]
    },
    {
      "cell_type": "code",
      "metadata": {
        "id": "iH6DlwYxT0QS",
        "colab_type": "code",
        "colab": {}
      },
      "source": [
        " class LinkedListQueue:\n",
        " \n",
        "    def __init__(self):\n",
        "      \n",
        "      self.head = None\n",
        "      self.tail = None\n",
        "      self.size = 0\n",
        "      \n",
        "      \n",
        "    def __isEmpty(self):\n",
        "      return self.size == 0\n",
        "    \n",
        "    def enqueue(self, e):\n",
        "      \n",
        "      if not self.tail:\n",
        "        self.tail = Node(e, None)\n",
        "        self.head = self.tail\n",
        "      else:\n",
        "        self.tail.next = Node(e, None)\n",
        "        self.tail = self.tail.next\n",
        "        \n",
        "      self.size += 1\n",
        "      \n",
        "      \n",
        "    def dequeue(self):\n",
        "      \n",
        "      if self.__isEmpty:\n",
        "        print(\"cannot dequeue from empty queue\")\n",
        "      \n",
        "      delNode = self.head\n",
        "      self.head = self.head.next\n",
        "      delNode.next = None\n",
        "      \n",
        "      if not self.head:\n",
        "        self.tail = None\n",
        "        \n",
        "      self.size -= 1\n",
        "      \n",
        "      return delNode.e\n",
        "    \n",
        "    \n",
        "    def toString(self):\n",
        "      cur = self.head\n",
        "\n",
        "      res = []\n",
        "      while cur:\n",
        "        res.append(str(cur.e))\n",
        "        cur = cur.next\n",
        "\n",
        "      print('Queue: front(dequeue) '+ '->'.join(res) + ' end(enqueue)')"
      ],
      "execution_count": 0,
      "outputs": []
    },
    {
      "cell_type": "code",
      "metadata": {
        "id": "JEZZ0z66TC4O",
        "colab_type": "code",
        "outputId": "eb5b0eff-7814-40c7-a01c-463cea40692a",
        "colab": {
          "base_uri": "https://localhost:8080/",
          "height": 34
        }
      },
      "source": [
        "llq = LinkedListQueue()\n",
        "\n",
        "for i in range(10):\n",
        "  llq.enqueue(i)\n",
        "\n",
        "llq.toString()"
      ],
      "execution_count": 0,
      "outputs": [
        {
          "output_type": "stream",
          "text": [
            "Queue: front(dequeue) 0->1->2->3->4->5->6->7->8->9 end(enqueue)\n"
          ],
          "name": "stdout"
        }
      ]
    }
  ]
}